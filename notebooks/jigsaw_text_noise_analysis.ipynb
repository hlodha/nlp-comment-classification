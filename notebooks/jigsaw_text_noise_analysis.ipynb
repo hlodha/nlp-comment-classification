{
 "cells": [
  {
   "cell_type": "code",
   "execution_count": 1,
   "metadata": {},
   "outputs": [],
   "source": [
    "import pandas as pd\n",
    "import numpy as np\n",
    "from pathlib import Path\n",
    "import matplotlib.pyplot as plt\n",
    "%matplotlib inline"
   ]
  },
  {
   "cell_type": "code",
   "execution_count": 2,
   "metadata": {},
   "outputs": [],
   "source": [
    "DATA_ROOT = Path(\"../data\") / \"jigsaw\""
   ]
  },
  {
   "cell_type": "code",
   "execution_count": null,
   "metadata": {},
   "outputs": [],
   "source": []
  },
  {
   "cell_type": "markdown",
   "metadata": {},
   "source": [
    "# Vocabulary"
   ]
  },
  {
   "cell_type": "markdown",
   "metadata": {},
   "source": [
    "Vocabulary overlap between train and test sets"
   ]
  },
  {
   "cell_type": "code",
   "execution_count": 3,
   "metadata": {},
   "outputs": [],
   "source": [
    "train, test = [pd.read_csv(DATA_ROOT / fname) for fname in [\"train.csv\", \"test_proced.csv\"]]"
   ]
  },
  {
   "cell_type": "code",
   "execution_count": 5,
   "metadata": {},
   "outputs": [],
   "source": [
    "import spacy\n",
    "nlp = spacy.load('en_core_web_sm')\n",
    "def tok(s): return [tok.text for tok in nlp.tokenizer(s)]"
   ]
  },
  {
   "cell_type": "code",
   "execution_count": 6,
   "metadata": {},
   "outputs": [],
   "source": [
    "train_parsed_sentences = [\n",
    "    tok(row[\"comment_text\"]) for i, row in train.iterrows()\n",
    "]"
   ]
  },
  {
   "cell_type": "code",
   "execution_count": 7,
   "metadata": {},
   "outputs": [],
   "source": [
    "test_parsed_sentences = [\n",
    "    tok(row[\"comment_text\"]) for i, row in test.iterrows()\n",
    "]"
   ]
  },
  {
   "cell_type": "markdown",
   "metadata": {},
   "source": [
    "Write as fasttext files"
   ]
  },
  {
   "cell_type": "code",
   "execution_count": 8,
   "metadata": {},
   "outputs": [],
   "source": [
    "with open(DATA_ROOT / \"train.ft_txt\", \"wt\") as f:\n",
    "    f.write(\"\\n\".join([\" \".join(s) for s in train_parsed_sentences]))"
   ]
  },
  {
   "cell_type": "code",
   "execution_count": 9,
   "metadata": {},
   "outputs": [],
   "source": [
    "with open(DATA_ROOT / \"test.ft_txt\", \"wt\") as f:\n",
    "    f.write(\"\\n\".join([\" \".join(s) for s in test_parsed_sentences]))"
   ]
  },
  {
   "cell_type": "code",
   "execution_count": null,
   "metadata": {},
   "outputs": [],
   "source": []
  },
  {
   "cell_type": "code",
   "execution_count": 25,
   "metadata": {},
   "outputs": [],
   "source": [
    "from collections import Counter\n",
    "train_freqs = Counter()\n",
    "test_freqs = Counter()\n",
    "for s in train_parsed_sentences: train_freqs.update([w.lower() for w in s])\n",
    "for s in test_parsed_sentences: test_freqs.update([w.lower() for w in s])"
   ]
  },
  {
   "cell_type": "code",
   "execution_count": 26,
   "metadata": {},
   "outputs": [],
   "source": [
    "train_vocab = set(train_freqs.keys())\n",
    "test_vocab = set(test_freqs.keys())"
   ]
  },
  {
   "cell_type": "markdown",
   "metadata": {},
   "source": [
    "Basic analysis"
   ]
  },
  {
   "cell_type": "code",
   "execution_count": 27,
   "metadata": {},
   "outputs": [
    {
     "data": {
      "text/plain": [
       "(221572, 1.388548044444166)"
      ]
     },
     "execution_count": 27,
     "metadata": {},
     "output_type": "execute_result"
    }
   ],
   "source": [
    "len(train_vocab), len(train_vocab) / len(train_parsed_sentences)"
   ]
  },
  {
   "cell_type": "code",
   "execution_count": 28,
   "metadata": {},
   "outputs": [
    {
     "data": {
      "text/plain": [
       "(162580, 2.5411860326987403)"
      ]
     },
     "execution_count": 28,
     "metadata": {},
     "output_type": "execute_result"
    }
   ],
   "source": [
    "len(test_vocab), len(test_vocab) / len(test_parsed_sentences)"
   ]
  },
  {
   "cell_type": "markdown",
   "metadata": {},
   "source": [
    "Number of terms unique to test set (60% of the terms are unique!!)"
   ]
  },
  {
   "cell_type": "code",
   "execution_count": 53,
   "metadata": {},
   "outputs": [
    {
     "data": {
      "text/plain": [
       "97067"
      ]
     },
     "execution_count": 53,
     "metadata": {},
     "output_type": "execute_result"
    }
   ],
   "source": [
    "len(test_vocab - train_vocab) "
   ]
  },
  {
   "cell_type": "code",
   "execution_count": 29,
   "metadata": {},
   "outputs": [
    {
     "data": {
      "text/plain": [
       "0.5970414565137163"
      ]
     },
     "execution_count": 29,
     "metadata": {},
     "output_type": "execute_result"
    }
   ],
   "source": [
    "len(test_vocab - train_vocab) / len(test_vocab)"
   ]
  },
  {
   "cell_type": "markdown",
   "metadata": {},
   "source": [
    "Distribution of frequencies"
   ]
  },
  {
   "cell_type": "code",
   "execution_count": 30,
   "metadata": {},
   "outputs": [
    {
     "data": {
      "image/png": "[encoded data removed]",
      "text/plain": [
       "<Figure size 432x288 with 1 Axes>"
      ]
     },
     "metadata": {
      "needs_background": "light"
     },
     "output_type": "display_data"
    }
   ],
   "source": [
    "plt.hist(np.log([x for x in train_freqs.values()]), bins=100);"
   ]
  },
  {
   "cell_type": "code",
   "execution_count": null,
   "metadata": {},
   "outputs": [],
   "source": []
  },
  {
   "cell_type": "markdown",
   "metadata": {},
   "source": [
    "### Contrast with SST"
   ]
  },
  {
   "cell_type": "code",
   "execution_count": 16,
   "metadata": {},
   "outputs": [],
   "source": [
    "sst_train, sst_test = [pd.read_csv(Path(\"../data\") / \"sst-2\" / fname, sep=\"\\t\") for fname in [\"train.tsv\", \"test.tsv\"]]"
   ]
  },
  {
   "cell_type": "code",
   "execution_count": 17,
   "metadata": {},
   "outputs": [],
   "source": [
    "sst_train_parsed_sentences = [\n",
    "    tok(row[\"sentence\"]) for i, row in sst_train.iterrows()\n",
    "]\n",
    "sst_test_parsed_sentences = [\n",
    "    tok(row[\"sentence\"]) for i, row in sst_test.iterrows()\n",
    "]"
   ]
  },
  {
   "cell_type": "code",
   "execution_count": 18,
   "metadata": {},
   "outputs": [],
   "source": [
    "from collections import Counter\n",
    "sst_train_freqs = Counter()\n",
    "sst_test_freqs = Counter()\n",
    "for s in sst_train_parsed_sentences: sst_train_freqs.update(s)\n",
    "for s in sst_test_parsed_sentences: sst_test_freqs.update(s)"
   ]
  },
  {
   "cell_type": "code",
   "execution_count": 19,
   "metadata": {},
   "outputs": [],
   "source": [
    "sst_train_vocab = set(sst_train_freqs.keys())\n",
    "sst_test_vocab = set(sst_test_freqs.keys())"
   ]
  },
  {
   "cell_type": "code",
   "execution_count": 20,
   "metadata": {},
   "outputs": [
    {
     "data": {
      "text/plain": [
       "(13915, 0.20661034313798274)"
      ]
     },
     "execution_count": 20,
     "metadata": {},
     "output_type": "execute_result"
    }
   ],
   "source": [
    "len(sst_train_vocab), len(sst_train_vocab) / len(sst_train_parsed_sentences)"
   ]
  },
  {
   "cell_type": "code",
   "execution_count": 21,
   "metadata": {},
   "outputs": [
    {
     "data": {
      "text/plain": [
       "(6889, 3.7830862163646346)"
      ]
     },
     "execution_count": 21,
     "metadata": {},
     "output_type": "execute_result"
    }
   ],
   "source": [
    "len(sst_test_vocab), len(sst_test_vocab) / len(sst_test_parsed_sentences)"
   ]
  },
  {
   "cell_type": "code",
   "execution_count": 22,
   "metadata": {},
   "outputs": [
    {
     "data": {
      "text/plain": [
       "0.24401219335172014"
      ]
     },
     "execution_count": 22,
     "metadata": {},
     "output_type": "execute_result"
    }
   ],
   "source": [
    "len(sst_test_vocab - sst_train_vocab) / len(sst_test_vocab)"
   ]
  },
  {
   "cell_type": "code",
   "execution_count": 23,
   "metadata": {},
   "outputs": [
    {
     "data": {
      "image/png": "[encoded data removed]",
      "text/plain": [
       "<Figure size 432x288 with 1 Axes>"
      ]
     },
     "metadata": {
      "needs_background": "light"
     },
     "output_type": "display_data"
    }
   ],
   "source": [
    "plt.hist(np.log([x for x in sst_train_freqs.values()]), bins=100);"
   ]
  },
  {
   "cell_type": "code",
   "execution_count": null,
   "metadata": {},
   "outputs": [],
   "source": []
  },
  {
   "cell_type": "code",
   "execution_count": null,
   "metadata": {},
   "outputs": [],
   "source": []
  },
  {
   "cell_type": "markdown",
   "metadata": {},
   "source": [
    "# OOV words"
   ]
  },
  {
   "cell_type": "code",
   "execution_count": 31,
   "metadata": {},
   "outputs": [
    {
     "data": {
      "text/plain": [
       "{'seras',\n",
       " 'laqaadaa',\n",
       " 'splitting#procedure',\n",
       " 'unionville',\n",
       " 'poam',\n",
       " 'طرفی',\n",
       " 'nahda',\n",
       " 'berzcasca',\n",
       " 'jdd',\n",
       " '~matt',\n",
       " 'years=',\n",
       " 'progran',\n",
       " 'pakistanspace.tripod.com/khurram/tjr.htm',\n",
       " '||italy',\n",
       " 'hous',\n",
       " 'bombe',\n",
       " 'painman',\n",
       " 'yorke',\n",
       " '-by',\n",
       " 'beberapa',\n",
       " 'عينيكى',\n",
       " 'أصغر',\n",
       " '↑ɻ⅞θʉɭђɥл₮₴ṝ',\n",
       " 'fss',\n",
       " 'ফাউন্ডেশন',\n",
       " 'microkorg',\n",
       " 'shankargarhi',\n",
       " 'করছে',\n",
       " 'تم',\n",
       " 'taraak',\n",
       " 'tgfd43249328043092849238904398024890324',\n",
       " 'રહેતા',\n",
       " 'purpled',\n",
       " 'liquidaiton',\n",
       " 'octubre',\n",
       " 'intrepido',\n",
       " 'بالأزرار',\n",
       " 'pageantry',\n",
       " 'pedosexuality',\n",
       " 'ابتدائی',\n",
       " 'chanman121',\n",
       " 'rimski',\n",
       " 'როგორმე',\n",
       " 'valluvar',\n",
       " 'prüfung',\n",
       " 'mallika',\n",
       " 'tascosa',\n",
       " '7f',\n",
       " 'annonces',\n",
       " 'phatuam',\n",
       " 'corporis',\n",
       " 'communication)insisted',\n",
       " 'livian',\n",
       " 'bedder',\n",
       " 'contentcurrent',\n",
       " 'chibistan',\n",
       " '3.24',\n",
       " 'dewdney',\n",
       " 'desinformation',\n",
       " 'χρόνων.',\n",
       " 'wunker',\n",
       " 'ሽረ',\n",
       " 'duvide',\n",
       " 'ternary',\n",
       " 'motorfreaks',\n",
       " 'lomax',\n",
       " 'poo==',\n",
       " 'sysutils',\n",
       " 'dow.',\n",
       " 'متنفريم',\n",
       " 'notice=',\n",
       " 'tmunot',\n",
       " 'hoffe',\n",
       " 'ஒருங்கிணைப்பை',\n",
       " '1)(d',\n",
       " 'وزبزبة',\n",
       " 'ngay',\n",
       " 'বেড়ে',\n",
       " 'accg',\n",
       " 'selachimorpha',\n",
       " '54h56',\n",
       " 'images!==',\n",
       " 'مولاؑ',\n",
       " 'princesymbol.png',\n",
       " 'iana',\n",
       " 'किसी',\n",
       " 'v1.50',\n",
       " 'supratau',\n",
       " 'إليك',\n",
       " 'واصبحو',\n",
       " 'kammerer-',\n",
       " 'ramani',\n",
       " 'logograms',\n",
       " 'brigard',\n",
       " 'svijetu',\n",
       " 'παραλές',\n",
       " 'siebel',\n",
       " \"vandals'(like\",\n",
       " 'formel',\n",
       " 'defyinggravity1.jpg',\n",
       " 'ግንቦት',\n",
       " 'saddlemire',\n",
       " 'உயிர்',\n",
       " 'شيئا',\n",
       " 'jadassohn',\n",
       " 'greeklife',\n",
       " 'تلقائياً.',\n",
       " 'analyst)is',\n",
       " 'masid',\n",
       " 'http://en.wikipedia.org/wiki/rhinoceros_%28play%29',\n",
       " 'gkdtydyy5kutdd',\n",
       " 'பருத்தித்துறையில்',\n",
       " 'change====',\n",
       " 'post-1977',\n",
       " 'angloise',\n",
       " 'whoch',\n",
       " 'mezarkus',\n",
       " 'unchai',\n",
       " 'sport_in_oldham',\n",
       " 'b6.svg',\n",
       " 'blueyonder',\n",
       " 'avition',\n",
       " 'classb',\n",
       " 'transpalnt.forget',\n",
       " 'zamijeniti',\n",
       " 'burim',\n",
       " 'musels',\n",
       " 'knawledge',\n",
       " 'rottweiller',\n",
       " 'witchalls',\n",
       " 'υπηρχε',\n",
       " 'okhqurüm',\n",
       " 'يشبه',\n",
       " 'anthoxantins',\n",
       " 'मजा',\n",
       " 'यीशु',\n",
       " 'पल',\n",
       " 'λίμνη',\n",
       " 'reif',\n",
       " 'syphyllis',\n",
       " 'at!==',\n",
       " 'unapparent',\n",
       " 'ahn',\n",
       " 'http://matt.tekgoblin.com/2010/06/verizon-switch-to-frontier-communications-west-lafayette-indiana/',\n",
       " 'tuthukudy',\n",
       " 'eyða',\n",
       " 'წყაროს',\n",
       " 'dfkgj',\n",
       " '93600',\n",
       " 'whitetip',\n",
       " 'سڑک',\n",
       " 'karapetyan',\n",
       " 'mayenne',\n",
       " 'දවසට',\n",
       " 'sdkhfdjjf',\n",
       " 'strawpolls',\n",
       " 'nacionalisti',\n",
       " 'prv8:29',\n",
       " 'pacioretty',\n",
       " 'divised',\n",
       " 'agradeço',\n",
       " 'blofield',\n",
       " 'donnet',\n",
       " 'شاء',\n",
       " 'यिनिहरू',\n",
       " 'bestimmt',\n",
       " 'forestgreen\"\"|',\n",
       " 'colocado',\n",
       " 'сум',\n",
       " 'dinozzo',\n",
       " 'wayzgoose',\n",
       " 'hhhhhhhhhhhhhhhhhhhhhhhhhhhhhhhh',\n",
       " 'inbreding',\n",
       " 'establisehd',\n",
       " 'playschool',\n",
       " 'нём',\n",
       " 'tpv2',\n",
       " 'http://www.youtube.com/watch?v=6llcjpzhbck',\n",
       " 'obam',\n",
       " 'وصلش',\n",
       " 'stencils',\n",
       " '라이트’',\n",
       " 'artwork?==',\n",
       " 'fenerbahçenin',\n",
       " 'tupak',\n",
       " 'mudra',\n",
       " 'a.p.j.',\n",
       " 'music)#criteria',\n",
       " 'पाठको',\n",
       " 'подумал',\n",
       " 'zaandam',\n",
       " 'shemp',\n",
       " 'pelos',\n",
       " 'نوعي',\n",
       " 'towelling',\n",
       " 'يصابو',\n",
       " 'fiducial',\n",
       " 'penang',\n",
       " 'पख्याने',\n",
       " '-needs-',\n",
       " 'sandcastles',\n",
       " 'degto',\n",
       " 'distint',\n",
       " 'beelow',\n",
       " 'jverthum',\n",
       " '3)don`t',\n",
       " '11664',\n",
       " 'കേന്ദ്രമകാന്\\u200d',\n",
       " 'notthemanbehind',\n",
       " 'homose*ualness',\n",
       " 'spalio',\n",
       " '॥६॥',\n",
       " 'http://www.bostonherald.com/business/general/view.bg?articleid=1014772',\n",
       " 'undergrowth',\n",
       " '\\\\/\\\\',\n",
       " 'icon.png',\n",
       " 'mirata',\n",
       " 'trai',\n",
       " 'báo',\n",
       " 'wochenende',\n",
       " 'menyebar',\n",
       " 'teleporation',\n",
       " 'pukeworthy',\n",
       " 'european(i',\n",
       " 'ലോകങ്ങളെ',\n",
       " 'norahjone',\n",
       " 'blinkhorn',\n",
       " 'gm=',\n",
       " 'democracy;like',\n",
       " 'fanwars',\n",
       " 'സഭയടക്കമുള്ള',\n",
       " '873.44',\n",
       " 'ttell',\n",
       " 'onze',\n",
       " 'cluebat',\n",
       " 'starinthee&st',\n",
       " 'পারিস',\n",
       " 'kesher',\n",
       " 'ଓଟିଭି',\n",
       " 'faygo',\n",
       " 'treba',\n",
       " 'همچين',\n",
       " '7150',\n",
       " 'mighta',\n",
       " 'polla',\n",
       " 'fa2012',\n",
       " 'ኤርትራ',\n",
       " 'nooka',\n",
       " 'الألواح',\n",
       " 'aranyakas.[6',\n",
       " 'കാലത്ത്\\u200c',\n",
       " 'القبائل',\n",
       " 'tyranus',\n",
       " 'مروي',\n",
       " 'افتعلها',\n",
       " 'gearbeitet',\n",
       " 'hoặc',\n",
       " '12.3k',\n",
       " 'المتحدة',\n",
       " '|3:29',\n",
       " '855630',\n",
       " 'beaucoups',\n",
       " 'ಹಾರೋಬೆಲೆಯೆಂಬ',\n",
       " 'حديثك',\n",
       " 'dtend',\n",
       " '3db/100',\n",
       " 'fihght',\n",
       " 'hisapnics',\n",
       " 'yes|acw',\n",
       " '2010.jpg|60px',\n",
       " 'socialistas',\n",
       " 'jiangmen',\n",
       " 'http://www.uniaodeleiria.pt/index.php?pagina=clubehistoria',\n",
       " 'lkndsklnsdlkvlskndvknsvdlkndlknlk',\n",
       " 'بدن',\n",
       " 'crapity',\n",
       " 'gollak',\n",
       " 'sentiments=',\n",
       " 'cockyne',\n",
       " 'shishman',\n",
       " 'oheix',\n",
       " 'strolls',\n",
       " 'cushite',\n",
       " 'situation(s',\n",
       " 'lere',\n",
       " 'spominju',\n",
       " 'εαυτό',\n",
       " 'rtghkvlbk',\n",
       " 'gallery==',\n",
       " '-ref',\n",
       " 'বেবী',\n",
       " 'colspan=10|fifa',\n",
       " '3021:36z',\n",
       " 'hadieth(as',\n",
       " 'agat',\n",
       " 'ελληνικη',\n",
       " 'fundamentlist',\n",
       " 'rawlinsons',\n",
       " 'jailing',\n",
       " 'parabrahmane',\n",
       " 'مخالفانشون',\n",
       " 'فيك',\n",
       " 'هغراق',\n",
       " 'ليس',\n",
       " 'bho',\n",
       " 'whammos',\n",
       " \"catchin'up\",\n",
       " 'vb67ertwr',\n",
       " 'afula',\n",
       " 'unmaintainable',\n",
       " 'blahblahman5',\n",
       " 'puttenham',\n",
       " 'منقطع',\n",
       " 'haggard_pic_2003_18.jpg',\n",
       " '80.177.4.109',\n",
       " 'plagairized',\n",
       " 'loptice',\n",
       " 'errebia',\n",
       " 'протестуючий',\n",
       " 'homogène',\n",
       " 'মুঠ',\n",
       " 'عطوفت',\n",
       " '4:89',\n",
       " 'nåt',\n",
       " 'gyeongsang',\n",
       " 'libidinous',\n",
       " 'bahawalpur',\n",
       " 'repairmen',\n",
       " 'goiter',\n",
       " 'poznata',\n",
       " 'belphoebe',\n",
       " 'கொல்வதன்றி',\n",
       " 'ተኻፊሉ',\n",
       " 'ಸಾಧ್ಯನಾ',\n",
       " 'oñate',\n",
       " 'mikið',\n",
       " '44-ton',\n",
       " 'ḟẚḡḡṏṱ',\n",
       " '\\\\text{d}\\\\pi',\n",
       " 'ago(that',\n",
       " 'budi',\n",
       " '2|discussion',\n",
       " 'moviegoing',\n",
       " 'mcaleer',\n",
       " 'квартиры',\n",
       " 'ramro',\n",
       " 'diderik',\n",
       " 'www.egs.edu',\n",
       " 'korps',\n",
       " 'இல்லை',\n",
       " '00585',\n",
       " 'meaned',\n",
       " 'marae',\n",
       " 'بکشن',\n",
       " 'ראה',\n",
       " 'unvali',\n",
       " 'فرصت',\n",
       " 'bromide',\n",
       " 'carotene',\n",
       " 'anatole',\n",
       " 'bwansa',\n",
       " 'bottomed',\n",
       " 'rays==',\n",
       " 'megaforce',\n",
       " 'aknew',\n",
       " 'მვ',\n",
       " 'મારું',\n",
       " 'gouten==',\n",
       " 'wejer',\n",
       " 'begriff',\n",
       " '清朝的圣祖有一个十分相似的地方',\n",
       " 'театром',\n",
       " 'xambaarsan',\n",
       " 'يطمسو',\n",
       " 'অভিনয়',\n",
       " 'trivancrum',\n",
       " 'puruse',\n",
       " 'keshtu',\n",
       " 'всегда',\n",
       " 'पवित्र',\n",
       " 'dalu',\n",
       " 'සමිතියක්',\n",
       " 'bechstein',\n",
       " 'retrouver',\n",
       " 'begreifen',\n",
       " 'gnostism',\n",
       " 'torreon',\n",
       " 'gvsu',\n",
       " 'तब',\n",
       " 'judokas',\n",
       " 'ঞ',\n",
       " 'ukrainain',\n",
       " '21420',\n",
       " 'ulaş',\n",
       " 'chiom',\n",
       " 'lps21⁷.',\n",
       " 'http://www.flickr.com/photos/watertownsurfer/2954856239/',\n",
       " 'الجزائرين',\n",
       " 'hfsdklf',\n",
       " 'خواهم',\n",
       " 'ōwada',\n",
       " 'большее',\n",
       " 'advocat[ing',\n",
       " 'flagler',\n",
       " 'content!i',\n",
       " 'weiser',\n",
       " 'रक्षणासाठी',\n",
       " 'можно',\n",
       " 'kefee',\n",
       " 'wav昂',\n",
       " 'سراسری',\n",
       " 'scandrett',\n",
       " 'ભાગવા',\n",
       " '33-acre',\n",
       " 'jouluna',\n",
       " 'http://www.ybkpublishers.com/life%20and%20marriage%20sample%201%20(preface).pdf',\n",
       " 'подарок',\n",
       " '-||add',\n",
       " '6;i',\n",
       " 'supream',\n",
       " 'gear4',\n",
       " 'matrakčija',\n",
       " 'اوليه',\n",
       " 'meme==',\n",
       " 'თუ',\n",
       " 'සෙල්ලම්',\n",
       " 'sudu',\n",
       " 'discusss',\n",
       " '||japan',\n",
       " 'المناسب',\n",
       " 'teramo',\n",
       " 'scholte',\n",
       " 'দেখি',\n",
       " 'दाहाखानी',\n",
       " 'dorkka',\n",
       " 'paravai',\n",
       " 'atatürk==',\n",
       " 'overhyped',\n",
       " 'eurazeo',\n",
       " 'augemnting',\n",
       " 'läge',\n",
       " 'judeofascism==',\n",
       " 'freedom5000',\n",
       " 'मंदिराबाबत',\n",
       " 'inspectin',\n",
       " 'milionową',\n",
       " 'dioscorides',\n",
       " 'جرحته',\n",
       " 'ලෙස',\n",
       " 'beard.jpg',\n",
       " 'or10',\n",
       " 'slučajno',\n",
       " 'அளித்தது.',\n",
       " 'virus_and_leukaemia_in_man',\n",
       " 'f#ck',\n",
       " 'genom',\n",
       " 'excommunicate',\n",
       " 'българи',\n",
       " 'союз',\n",
       " 'penuis',\n",
       " 'bolezni',\n",
       " 'blockera',\n",
       " 'bunchesofgapes',\n",
       " 'സുന്ദരികുട്ടി',\n",
       " 'cordrey',\n",
       " 'hadely',\n",
       " 'conutries',\n",
       " 'http://nowthatsnifty.blogspot.com/2009/10/national-dishes-of-world.html',\n",
       " 'litigator',\n",
       " 'rpms',\n",
       " 'sinosphere',\n",
       " 'بسفاليهم',\n",
       " 'jedna',\n",
       " 'tfaempty',\n",
       " 'divemaster',\n",
       " 'rights:\"\"[16][17',\n",
       " 'ⓝ',\n",
       " 'දරුවා',\n",
       " 'bike756',\n",
       " 'رێناس',\n",
       " 'medicine==',\n",
       " 'errancy',\n",
       " '80325',\n",
       " 'geisheker',\n",
       " \"n'more\",\n",
       " 'state==',\n",
       " 'golubev',\n",
       " 'bions===',\n",
       " 'rayo',\n",
       " 'tarawha',\n",
       " 'm.u.s.c.l.e.',\n",
       " 'awh',\n",
       " 'geneall',\n",
       " 'tutunkamen',\n",
       " 'obšivač',\n",
       " 'eighthhttp://www.telegraph.co.uk',\n",
       " 'xiangtang',\n",
       " 'paragraphs==',\n",
       " 'wikipediait',\n",
       " 'duchocolate',\n",
       " 'stonington',\n",
       " 'deshsthas',\n",
       " '米のモンスター',\n",
       " 'ⓞ',\n",
       " 'ppppppppppppp',\n",
       " 'lokn',\n",
       " 'slobodno',\n",
       " 'cymbal',\n",
       " 'versuch',\n",
       " 'campañas',\n",
       " 'volare',\n",
       " 'nazism==',\n",
       " 'والمعتاد',\n",
       " 'agustus',\n",
       " 'dgkj',\n",
       " 'teman',\n",
       " 'cabdiwaasac',\n",
       " 'іншого',\n",
       " 'ফেলানি',\n",
       " \"history'or\",\n",
       " 'adr',\n",
       " 'cartoonstitute',\n",
       " 'su2',\n",
       " '2001)in',\n",
       " 'g#/ab',\n",
       " 'diocletianic',\n",
       " 'r.j.',\n",
       " 'glimmering',\n",
       " 'rape;;-.5;;v',\n",
       " 'buey',\n",
       " 'southcourt',\n",
       " 'nusoj',\n",
       " 'ഏജന്\\u200dസികളുടെയും',\n",
       " 'preview/0,10987,1083935,00.html}.',\n",
       " 'coenobitic',\n",
       " 'style#number',\n",
       " 'dsmccohen',\n",
       " 'hevalo',\n",
       " 'sprout',\n",
       " 'ആസക്തികളും',\n",
       " 'kernighan',\n",
       " 'software)==',\n",
       " 'libis',\n",
       " 'میکنم.طرفدار',\n",
       " 'وعدوانا',\n",
       " 'http://www.malaysia-today.net/blog-e/2005/02/is-polarisation-in-malaysia-dead-or.htm',\n",
       " 'mylander',\n",
       " 'عالم',\n",
       " 'http://www.indianexpress.com/news/hc-seeks-mha-reply-on-selection-of-logos/941570/',\n",
       " 'ritmoson',\n",
       " 'מידע',\n",
       " 'a.d',\n",
       " '1,360',\n",
       " 'amanda_lear_-_with_love_(france).jpg',\n",
       " 'møgso',\n",
       " 'સાહસી',\n",
       " 'hadana',\n",
       " 'இப்படி',\n",
       " 'সময়',\n",
       " '|anicetus',\n",
       " 'जैसे:-',\n",
       " 'හොයන්න',\n",
       " \"m'ammène\",\n",
       " 'kontroversiellt',\n",
       " 'cincinnatiwiki',\n",
       " 'bkslopper',\n",
       " 'nightbeast',\n",
       " 'stejně',\n",
       " 'نميکنند',\n",
       " 'alrededor',\n",
       " 'واختلطوا',\n",
       " 'ruthless(dvd',\n",
       " 'tenna',\n",
       " 'جائیں۔ایک',\n",
       " 'olianna',\n",
       " 'perast',\n",
       " 'thereasa',\n",
       " 'gelesen',\n",
       " 'greaaaaat',\n",
       " 'https://www.youtube.com/watch?v=qw_o9qiwqew',\n",
       " 'kke(m',\n",
       " 'قادرين',\n",
       " 'qarnns',\n",
       " 'ধর্মকে',\n",
       " '72-virgin',\n",
       " 'முதலீட்டுக்',\n",
       " 'savagey',\n",
       " 'tiiiffany',\n",
       " 'http://www.baa.com/assets/b2cportal/static%20files/firstpoint_location_map_2004.pdf',\n",
       " 'aikman',\n",
       " 'نشد',\n",
       " 'ogólnie',\n",
       " 'σ-algebra',\n",
       " 'clb',\n",
       " '536',\n",
       " 'haberstr',\n",
       " 'जबकि',\n",
       " 'nikolay',\n",
       " 'didn’t',\n",
       " 'mano',\n",
       " 'thrftyfytwas',\n",
       " 'judeus',\n",
       " 'kartu',\n",
       " '그렇지',\n",
       " 'البشر',\n",
       " 'seaview',\n",
       " 'logosunu',\n",
       " 'picture.jpg',\n",
       " 'asemenea',\n",
       " 'separuh',\n",
       " 'വ്യക്തി',\n",
       " 'unassisariy',\n",
       " 'wcco',\n",
       " 'amanitas',\n",
       " 'highground',\n",
       " 'saddax',\n",
       " '/ˈnōdəb(ə)l/',\n",
       " 'sóng',\n",
       " 'bugg',\n",
       " 'http://www.zamolxis.ro/modules.php?name=news&file;=article&sid;=98',\n",
       " '1#single',\n",
       " 'fifers',\n",
       " 'savillo',\n",
       " '3.170948983',\n",
       " '0.71',\n",
       " 'bondegezou',\n",
       " 'selber',\n",
       " 'verifiacation',\n",
       " 'بەتایبەتی',\n",
       " 'heckler',\n",
       " 'http://zeara420.tripod.com/id19.html',\n",
       " 'nove',\n",
       " 'slumlord',\n",
       " 'காட்டுகிறார்.',\n",
       " 'sd[fs[difsd',\n",
       " '|three',\n",
       " 'കീശയിലിട്ടവര്\\u200dക്ക്\\u200c',\n",
       " 'hisxpress',\n",
       " 'unlistenability',\n",
       " 'parolu',\n",
       " 'scoundrels!!!!!!!!!!!!!###@$@#$@#%#@%^#$^$^&$&$%&%^*^%**%^*%*&%*%*$*#&^',\n",
       " '..................................................................................................................................................................................',\n",
       " 'quinoa.[58',\n",
       " 'diakité',\n",
       " 'revrrted',\n",
       " 'abuja',\n",
       " 'conceptart.org',\n",
       " 'projeto',\n",
       " 'woyuld',\n",
       " 'pomysł',\n",
       " 'bath==',\n",
       " 'رشتی',\n",
       " 'pwriut',\n",
       " 'walsh==',\n",
       " 'தெரிகிறது.',\n",
       " 'قبيلة',\n",
       " 'courlanders',\n",
       " 'gritten',\n",
       " 'ایجاد',\n",
       " 'f2combutton',\n",
       " 'biombs',\n",
       " 'دارد.',\n",
       " 'textry',\n",
       " 'wunnerful',\n",
       " 'amputees',\n",
       " 'هرچه',\n",
       " 'natin',\n",
       " 'kimiko',\n",
       " '21,2009',\n",
       " 'kraiterman',\n",
       " 'prezentare',\n",
       " 'ordermaven',\n",
       " 'lindgren==',\n",
       " 'dhigtaan',\n",
       " 'serem',\n",
       " 'आइयो',\n",
       " 'svjetu',\n",
       " 'weigerst',\n",
       " 'tipitaka',\n",
       " 'اتحدث',\n",
       " 'சதவீத',\n",
       " 'testé',\n",
       " 'بروكسي',\n",
       " 'shmeat',\n",
       " 'startribune',\n",
       " 'ההזמנה',\n",
       " 'sex!!!!!',\n",
       " 'silingi',\n",
       " 'lies==',\n",
       " 'mban',\n",
       " 'faltin',\n",
       " 'сайт',\n",
       " 'наподобява',\n",
       " 'মরবে',\n",
       " 'محاكمتهم',\n",
       " 'poslijedni',\n",
       " 'regole',\n",
       " 'celelalte',\n",
       " 'পুস্তিকা',\n",
       " 'cofa',\n",
       " 'głównie',\n",
       " 'atacking',\n",
       " 'ermey',\n",
       " 'index.htm',\n",
       " 'deshalb',\n",
       " 'chutiyas',\n",
       " '21549',\n",
       " 'aracely',\n",
       " 'пользователей',\n",
       " 'مەخزەن',\n",
       " 'separated[some',\n",
       " 'autos',\n",
       " '|fritz',\n",
       " 'lucidement',\n",
       " '7#1|\\\\|x',\n",
       " \"6t'y\",\n",
       " '1985–2012',\n",
       " 'houselander',\n",
       " 'http://fisheries.org/guide-for-the-use-of-fishes-in-research#4.3',\n",
       " 'http://www.network54.com/forum/285921/',\n",
       " 'faluja#post',\n",
       " 'néger',\n",
       " 'http://link.springer.com/article/10.1023/a:1016518919072',\n",
       " 'ﺍﻟﺨﻠﻒ',\n",
       " 'wranglings',\n",
       " 'b3.svg',\n",
       " 'আজ',\n",
       " 'ἐνέργειαν',\n",
       " 'thent',\n",
       " 'unshaven',\n",
       " 'কিছুই',\n",
       " 'τζινάβεις',\n",
       " 'monergism',\n",
       " '1.110',\n",
       " 'اسلامی',\n",
       " 'http://www.amateurspaceflight.com',\n",
       " 'மணிக்கு',\n",
       " '50-cal',\n",
       " 'eit',\n",
       " '14280',\n",
       " '좋아해',\n",
       " 'വരെ',\n",
       " 're?)interpretation',\n",
       " 'dyje',\n",
       " 'οὐδὲ',\n",
       " 'person#modules',\n",
       " 'پيش',\n",
       " 'hayimemashite',\n",
       " 'ikiiy',\n",
       " 'pakom',\n",
       " 'gradations',\n",
       " 'lihim',\n",
       " 'catdog',\n",
       " 'কবীর',\n",
       " 'traduzione',\n",
       " 'theoreticals',\n",
       " 'ages.so',\n",
       " 'それはどうも恐れ入ります。友達が来る時はいつもこう片付けるのですか',\n",
       " 'callifornian',\n",
       " 'ब्राम्हण',\n",
       " 'declined)',\n",
       " 'excilsuvely',\n",
       " 'protection==',\n",
       " 'pansexual',\n",
       " 'mnaidriensis',\n",
       " 'ameerat',\n",
       " 'خوبي',\n",
       " 'بالدنيا',\n",
       " 'dalnicy',\n",
       " 'yesallwomen',\n",
       " 'casemate',\n",
       " 'tolit',\n",
       " 'ft13,000',\n",
       " '(http://hamariweb.com',\n",
       " 'kozłowski',\n",
       " 'erasle',\n",
       " 'manilas',\n",
       " 'myuidcard.co.in',\n",
       " '|accessdate=',\n",
       " 'falas',\n",
       " 'tuc',\n",
       " 'clanking',\n",
       " '5-blade',\n",
       " 'pripremila',\n",
       " 'रहने',\n",
       " '\\n\\n  \\n\\n  \\n\\n  \\n ',\n",
       " 'research.[9',\n",
       " 'cartographies',\n",
       " 'forthisreliefmuchthanks.blogspot.com',\n",
       " 'climate==',\n",
       " 'הזה',\n",
       " 'zaryaab',\n",
       " 'f****ng',\n",
       " 'gruss',\n",
       " '65520',\n",
       " 'אדאלף',\n",
       " 'thebans',\n",
       " 'unforbidden',\n",
       " 'http://home.snafu.de/tilman/faq-you/cult.apologists.txt',\n",
       " 'arslan',\n",
       " 'aemilia',\n",
       " 'čuvenijeg',\n",
       " 'http://newsarama.com/forums/printthread.php?s=6a2dd52de401a9ddbfa3495cff133bcd&threadid;=4185',\n",
       " 'cuestecomate',\n",
       " 'jej',\n",
       " 'rmum',\n",
       " 'wrko.org',\n",
       " 'riomaggiore',\n",
       " 'انجام',\n",
       " 'telescreen',\n",
       " 'නිළදාරීන්',\n",
       " 'nan)(guo',\n",
       " 'karynn|zzz',\n",
       " 'aristobulus',\n",
       " 'ciggaretes',\n",
       " 'gbear',\n",
       " 'volio',\n",
       " 'uke==',\n",
       " 'पञ्च',\n",
       " 'recours',\n",
       " 'g.h.m.c.',\n",
       " 'raça',\n",
       " 'dnes',\n",
       " '2:216',\n",
       " 'horsesh',\n",
       " 'متضاد',\n",
       " 'farewell==',\n",
       " 'poster==',\n",
       " 'obratno',\n",
       " 'espanhol',\n",
       " 'líti',\n",
       " 'http://www.bigfootforums.net',\n",
       " '68.195.110.145',\n",
       " 'ryiotj8',\n",
       " 'sh#@',\n",
       " 'mcguiness',\n",
       " 'domneavoastra',\n",
       " '|neurology',\n",
       " 'slichter',\n",
       " 'amritraj',\n",
       " '67.187.180.63',\n",
       " '13923',\n",
       " \"2)shouldn't\",\n",
       " 'وافقر',\n",
       " 'reentered',\n",
       " 'plang',\n",
       " 'doodikeppi',\n",
       " 'g01ng',\n",
       " 'certaianly',\n",
       " 'shkruajme',\n",
       " 'shes',\n",
       " 'hermesh',\n",
       " 'ni.html',\n",
       " 'yushky',\n",
       " 'osirak',\n",
       " 'doy',\n",
       " 'baby~',\n",
       " 'forwenednes',\n",
       " 'بثقة',\n",
       " 'helpul',\n",
       " 'http://www.nytimes.com/2015/05/06/arts/music/benjamin-f-logan-engineer-by-day-and-bluegrass-fiddler-by-night-dies-at-87.html',\n",
       " 'dilike',\n",
       " 'multam',\n",
       " '318.53380',\n",
       " 'coctail',\n",
       " 'famsu',\n",
       " 'perturbations',\n",
       " 'наземным',\n",
       " 'statesboro',\n",
       " 'twiki',\n",
       " 'bbbbbbbbbbbbbbbuuuuuuuuuuuuuuuuuuuuuuuuuuuuuuuuuuuttttttttttttttttttttttttttttttttttttyyyyyyyyyyyyyyyyyyyyyyyyyyyyyyyyyyyyyy',\n",
       " 'the_wikipedia_adventure',\n",
       " 'معمولی',\n",
       " '|action2date=12:29',\n",
       " 'lkr23⁴⁵.',\n",
       " 'ಹಾಗು',\n",
       " 'ngen',\n",
       " 'bất',\n",
       " 'columbia_journal_review',\n",
       " 'brainard',\n",
       " 'congratulations!|ck',\n",
       " '¨¨¨¨',\n",
       " 'chemeketa',\n",
       " 'undertsanded',\n",
       " 'दिन',\n",
       " 'تلقین',\n",
       " 'اريد',\n",
       " 'ﻋﺎﺋﻠﺘﻬﺎ',\n",
       " 'divideduse',\n",
       " 'talfgrueryryeyigydgudgjerytugyfdgertuigrrtrutetuygirtbrutyretetrb',\n",
       " 'allegations==',\n",
       " '-exsequor',\n",
       " 'sasso',\n",
       " 'kbdank71',\n",
       " 'resultshttp://www.bbc.co.uk',\n",
       " 'qosi',\n",
       " 'encephalomyelitis',\n",
       " 'diend',\n",
       " 'பற்றிய',\n",
       " 'ميخواست',\n",
       " 'bse',\n",
       " 'are?ass',\n",
       " 'biringuccio',\n",
       " 'tables==',\n",
       " 'requeted',\n",
       " 'राजे',\n",
       " 'κατι',\n",
       " 'gett',\n",
       " 'http://www.lawsocietyalberta.com/files/hearingreports/robertp_lee_he20060050_part1_4sep2009.pdf',\n",
       " '564',\n",
       " 'insomnia,[6',\n",
       " 'miért',\n",
       " 'edhseraaaan',\n",
       " 'sooooooooooooooooooooooooooooooooooooooooooooooooooooooooooooooooooooooooooooooooooooooooooooooooooooooooooooooooooooooooo',\n",
       " 'bhasker',\n",
       " 'bwoi',\n",
       " 'tdy',\n",
       " '190,000',\n",
       " '21|past',\n",
       " 'sayfada',\n",
       " 'mccarthy==',\n",
       " 'dermatophytosis',\n",
       " 'yidden',\n",
       " 'дайн.',\n",
       " 'дилетантизм.',\n",
       " 'sharonda',\n",
       " 'kmdb',\n",
       " 'gerada',\n",
       " 'بالسيد',\n",
       " 'juravenator',\n",
       " 'خاص',\n",
       " 'vasana',\n",
       " 'chasseur',\n",
       " 'thing?that',\n",
       " 'http://www.prima-news.ru/news/news/2006/3/29/35420.html',\n",
       " 'mccoll',\n",
       " 'deletiona',\n",
       " 'stel',\n",
       " 'lcc2',\n",
       " 'harb',\n",
       " 'appathinte',\n",
       " '1949no',\n",
       " 'xah',\n",
       " 'karaliaučiaus',\n",
       " '3740',\n",
       " '13260',\n",
       " 'lvivskie',\n",
       " 'fetishists',\n",
       " 'http://www.youtube.com/watch?v=ufuw3-f_vp0',\n",
       " '1,111,111',\n",
       " '15708',\n",
       " 'βλακείες',\n",
       " 'vaše',\n",
       " 'xx.v.v.v',\n",
       " 'ecuatoriano',\n",
       " 'ଠିକଣା',\n",
       " 'الشاذ',\n",
       " 'بە',\n",
       " 'herprey.jpg==',\n",
       " 'golsan',\n",
       " 'ಅದು',\n",
       " 'bringen',\n",
       " 'ɯoɹɟ\\ufeff',\n",
       " 'paragliding',\n",
       " 'sheader',\n",
       " 'g222',\n",
       " 'informatfbbbbbbbbbbbbbbbbbbbbbbbbbbbbbbbbbbbbbbbbbbbbbbbbbbbbbbbbbbbbbbbbbbbbbbbbbbbbbbbbbbbbbbbbbbbbbbbbbbbbbbbbbbbbbbbbbbbbbbbbbbbbbbbbbbbbbbbbbbbbkomjkib',\n",
       " 'lesdar',\n",
       " 'démolies',\n",
       " 'пропагандистської',\n",
       " 'causae',\n",
       " 'štetom',\n",
       " 'sitas',\n",
       " 'http://www.gtweekly.com/index.php/santa-cruz-news/santa-cruz-local-news/6203-on-his-terms.html',\n",
       " 'الاجرام',\n",
       " 'soglia',\n",
       " '238th',\n",
       " 'recycles',\n",
       " 'footways',\n",
       " 'götaplatsen',\n",
       " 'ගත්',\n",
       " 'ssssssssscccccccccchhhhhhhhhhhhhhhhhhhhhhhhhhwwwwwwwwwwwwwwaaaaaaaaaarrrrrrrrrrttttttttzzzzzzzzzzzzz',\n",
       " 'annoying-',\n",
       " 'shouyd',\n",
       " 'ninemsn',\n",
       " 'haterz',\n",
       " 'पिते',\n",
       " '147.126.46.147',\n",
       " 'hill.jpeg)==',\n",
       " 'hahahahahahah',\n",
       " 'rothbard==',\n",
       " 'അതിന്\\u200dറെ',\n",
       " 'book|title',\n",
       " 'sikh==',\n",
       " 'hellonyeah',\n",
       " 'http://en.wikipedia.org/w/index.php?title=talk:roland_perry&diff;=301973403&oldid;=301970925',\n",
       " 'ravenwood',\n",
       " 'ولكنني',\n",
       " 'gumaystihii',\n",
       " 'emasculating',\n",
       " ...}"
      ]
     },
     "execution_count": 31,
     "metadata": {},
     "output_type": "execute_result"
    }
   ],
   "source": [
    "test_vocab - train_vocab"
   ]
  },
  {
   "cell_type": "code",
   "execution_count": null,
   "metadata": {},
   "outputs": [],
   "source": []
  },
  {
   "cell_type": "markdown",
   "metadata": {},
   "source": [
    "# Some simple denoising"
   ]
  },
  {
   "cell_type": "markdown",
   "metadata": {},
   "source": [
    "### Repitition"
   ]
  },
  {
   "cell_type": "code",
   "execution_count": 33,
   "metadata": {},
   "outputs": [],
   "source": [
    "from dataclasses import dataclass"
   ]
  },
  {
   "cell_type": "code",
   "execution_count": 44,
   "metadata": {},
   "outputs": [],
   "source": [
    "@dataclass\n",
    "class RepeatTracker:\n",
    "    prev_prev_char: str = None\n",
    "    prev_char: str = None\n",
    "    \n",
    "    def is_repeat(self, c: str) -> bool:\n",
    "        rep = c == self.prev_char and self.prev_char == self.prev_prev_char\n",
    "        # track state\n",
    "        self.prev_prev_char = self.prev_char\n",
    "        self.prev_char = c\n",
    "        return rep"
   ]
  },
  {
   "cell_type": "code",
   "execution_count": 45,
   "metadata": {},
   "outputs": [],
   "source": [
    "def remove_repeats(s: str):\n",
    "    \"\"\"Deduplicate characters that appear more than 2 times in a row\"\"\"\n",
    "    tracker = RepeatTracker()\n",
    "    return \"\".join(\n",
    "        [c for c in s if not tracker.is_repeat(c)]\n",
    "    )"
   ]
  },
  {
   "cell_type": "code",
   "execution_count": 46,
   "metadata": {},
   "outputs": [
    {
     "data": {
      "text/plain": [
       "'hello this is a pen'"
      ]
     },
     "execution_count": 46,
     "metadata": {},
     "output_type": "execute_result"
    }
   ],
   "source": [
    "remove_repeats(\"hello this is a pen\")"
   ]
  },
  {
   "cell_type": "code",
   "execution_count": 47,
   "metadata": {},
   "outputs": [
    {
     "data": {
      "text/plain": [
       "'heelloo this is a pen'"
      ]
     },
     "execution_count": 47,
     "metadata": {},
     "output_type": "execute_result"
    }
   ],
   "source": [
    "remove_repeats(\"heeeeeelloo this is a pen\")"
   ]
  },
  {
   "cell_type": "code",
   "execution_count": 48,
   "metadata": {},
   "outputs": [
    {
     "data": {
      "text/plain": [
       "'heellol this is a pen'"
      ]
     },
     "execution_count": 48,
     "metadata": {},
     "output_type": "execute_result"
    }
   ],
   "source": [
    "remove_repeats(\"heeeeeellllol this is a pen\")"
   ]
  },
  {
   "cell_type": "code",
   "execution_count": 51,
   "metadata": {},
   "outputs": [],
   "source": [
    "denoised_test_vocab = set([remove_repeats(w) for w in test_vocab])\n",
    "denoised_train_vocab = set([remove_repeats(w) for w in train_vocab])"
   ]
  },
  {
   "cell_type": "markdown",
   "metadata": {},
   "source": [
    "We get a slight decrease..."
   ]
  },
  {
   "cell_type": "code",
   "execution_count": 52,
   "metadata": {},
   "outputs": [
    {
     "data": {
      "text/plain": [
       "96008"
      ]
     },
     "execution_count": 52,
     "metadata": {},
     "output_type": "execute_result"
    }
   ],
   "source": [
    "len(denoised_test_vocab - denoised_train_vocab)"
   ]
  },
  {
   "cell_type": "code",
   "execution_count": null,
   "metadata": {},
   "outputs": [],
   "source": []
  },
  {
   "cell_type": "markdown",
   "metadata": {},
   "source": [
    "### URLs"
   ]
  },
  {
   "cell_type": "code",
   "execution_count": 60,
   "metadata": {},
   "outputs": [],
   "source": [
    "import re\n",
    "url_regexp = re.compile(\"https?://(?:[-\\w.]|(?:%[\\da-fA-F]{2}))+\")"
   ]
  },
  {
   "cell_type": "code",
   "execution_count": 63,
   "metadata": {},
   "outputs": [
    {
     "data": {
      "text/plain": [
       "<_sre.SRE_Match object; span=(0, 27), match='http://www.foo.com.hoge.foo'>"
      ]
     },
     "execution_count": 63,
     "metadata": {},
     "output_type": "execute_result"
    }
   ],
   "source": [
    "url_regexp.match(\"http://www.foo.com.hoge.foo/aaa?dfja\")"
   ]
  },
  {
   "cell_type": "code",
   "execution_count": 64,
   "metadata": {},
   "outputs": [],
   "source": [
    "url_regexp.match(\"http:///www.foo.com.hoge.foo/aaa?dfja\")"
   ]
  },
  {
   "cell_type": "code",
   "execution_count": 65,
   "metadata": {},
   "outputs": [],
   "source": [
    "denoised_test_vocab = set([w for w in denoised_test_vocab if url_regexp.match(w) is None])\n",
    "denoised_train_vocab = set([w for w in denoised_train_vocab if url_regexp.match(w) is None])"
   ]
  },
  {
   "cell_type": "markdown",
   "metadata": {},
   "source": [
    "Another decrease!"
   ]
  },
  {
   "cell_type": "code",
   "execution_count": 66,
   "metadata": {},
   "outputs": [
    {
     "data": {
      "text/plain": [
       "93522"
      ]
     },
     "execution_count": 66,
     "metadata": {},
     "output_type": "execute_result"
    }
   ],
   "source": [
    "len(denoised_test_vocab - denoised_train_vocab)"
   ]
  },
  {
   "cell_type": "code",
   "execution_count": null,
   "metadata": {},
   "outputs": [],
   "source": []
  },
  {
   "cell_type": "markdown",
   "metadata": {},
   "source": [
    "### Removing numbers"
   ]
  },
  {
   "cell_type": "code",
   "execution_count": 70,
   "metadata": {},
   "outputs": [],
   "source": [
    "num_regexp = re.compile(\"^[0-9]+$\")"
   ]
  },
  {
   "cell_type": "code",
   "execution_count": 71,
   "metadata": {},
   "outputs": [
    {
     "data": {
      "text/plain": [
       "<_sre.SRE_Match object; span=(0, 4), match='1989'>"
      ]
     },
     "execution_count": 71,
     "metadata": {},
     "output_type": "execute_result"
    }
   ],
   "source": [
    "num_regexp.match(\"1989\")"
   ]
  },
  {
   "cell_type": "code",
   "execution_count": 73,
   "metadata": {},
   "outputs": [],
   "source": [
    "num_regexp.match(\"198a\")"
   ]
  },
  {
   "cell_type": "code",
   "execution_count": 74,
   "metadata": {},
   "outputs": [],
   "source": [
    "num_regexp.match(\"a198\")"
   ]
  },
  {
   "cell_type": "code",
   "execution_count": 75,
   "metadata": {},
   "outputs": [],
   "source": [
    "denoised_test_vocab = set([w for w in denoised_test_vocab if num_regexp.match(w) is None])\n",
    "denoised_train_vocab = set([w for w in denoised_train_vocab if num_regexp.match(w) is None])"
   ]
  },
  {
   "cell_type": "code",
   "execution_count": 76,
   "metadata": {},
   "outputs": [
    {
     "data": {
      "text/plain": [
       "92415"
      ]
     },
     "execution_count": 76,
     "metadata": {},
     "output_type": "execute_result"
    }
   ],
   "source": [
    "len(denoised_test_vocab - denoised_train_vocab)"
   ]
  },
  {
   "cell_type": "code",
   "execution_count": null,
   "metadata": {},
   "outputs": [],
   "source": []
  },
  {
   "cell_type": "code",
   "execution_count": null,
   "metadata": {},
   "outputs": [],
   "source": []
  },
  {
   "cell_type": "markdown",
   "metadata": {},
   "source": [
    "# Can we spell correct using embeddings?"
   ]
  },
  {
   "cell_type": "code",
   "execution_count": 94,
   "metadata": {},
   "outputs": [],
   "source": [
    "import fastText"
   ]
  },
  {
   "cell_type": "code",
   "execution_count": 95,
   "metadata": {},
   "outputs": [],
   "source": [
    "ft_model = fastText.load_model(str(DATA_ROOT / \"jigsaw_model.bin\"))"
   ]
  },
  {
   "cell_type": "code",
   "execution_count": 96,
   "metadata": {},
   "outputs": [],
   "source": [
    "word_vectors = {w: ft_model.get_word_vector(w) for w in ft_model.get_words()}"
   ]
  },
  {
   "cell_type": "code",
   "execution_count": 116,
   "metadata": {},
   "outputs": [],
   "source": [
    "def cosine_similarity(x, y):\n",
    "    return np.dot(x, y) / (np.linalg.norm(x) * np.linalg.norm(y))\n",
    "\n",
    "from heapq import heappush, heappop\n",
    "def nearest_neighbors(word, n=10, max_freq=None):\n",
    "    x = ft_model.get_word_vector(word)\n",
    "    heap = []\n",
    "    for w, v in word_vectors.items():\n",
    "        if max_freq is not None and train_freqs[w] > max_freq: continue\n",
    "        sim = cosine_similarity(x, v)\n",
    "        if len(heap) < n:\n",
    "            heappush(heap, (sim, w))\n",
    "        else:\n",
    "            if heap[0] < (sim, w):\n",
    "                heappop(heap)\n",
    "                heappush(heap, (sim, w))\n",
    "    return sorted(heap, reverse=True)"
   ]
  },
  {
   "cell_type": "code",
   "execution_count": 117,
   "metadata": {},
   "outputs": [
    {
     "data": {
      "text/plain": [
       "[(1.0000001, 'hello'),\n",
       " (0.54531354, '|hello'),\n",
       " (0.50405526, 'hellor'),\n",
       " (0.46177784,\n",
       "  'http://www.urbandictionary.com/define.php?term=BatteryIncluded%20and%20Apokryltaros&defid;=7940701'),\n",
       " (0.45322883, 'hella'),\n",
       " (0.41515225, 'Hello'),\n",
       " (0.41504452, 'Othello'),\n",
       " (0.40933764, 'bello'),\n",
       " (0.40864664, 'i'),\n",
       " (0.39541024, 'Welcome!Hello')]"
      ]
     },
     "execution_count": 117,
     "metadata": {},
     "output_type": "execute_result"
    }
   ],
   "source": [
    "nearest_neighbors(\"hello\")"
   ]
  },
  {
   "cell_type": "code",
   "execution_count": 121,
   "metadata": {},
   "outputs": [
    {
     "data": {
      "text/plain": [
       "[(1.0, 'fuck'),\n",
       " (0.71109784, 'fucky'),\n",
       " (0.7018619, 'yourselfgo'),\n",
       " (0.6390364, 'niggas'),\n",
       " (0.63388884, 'fucka'),\n",
       " (0.6241736, '@/\\\\/+u'),\n",
       " (0.6170343, 'misterwiki'),\n",
       " (0.6115249, 'd3$1r'),\n",
       " (0.6042792, 'fuc*ing'),\n",
       " (0.60393906, 'bitches.fuck'),\n",
       " (0.5953338, '62.158.73.165'),\n",
       " (0.5914404, 'fucksex'),\n",
       " (0.5914125, 'ashol'),\n",
       " (0.588362, 'malusia'),\n",
       " (0.57525295, 'fuc'),\n",
       " (0.5730932, 'Fucky'),\n",
       " (0.56682396, 'yoy'),\n",
       " (0.56012464, 'ass!Fuck'),\n",
       " (0.5553477, 'fuckstick'),\n",
       " (0.53864944, 'ashit'),\n",
       " (0.53292435, 'fucking'),\n",
       " (0.525525, 'aot'),\n",
       " (0.5254815, 'shgit'),\n",
       " (0.51831734, 'whore!eat'),\n",
       " (0.51797044, 'Go'),\n",
       " (0.51698583, 'shiot'),\n",
       " (0.5144625, 'shitFuck'),\n",
       " (0.5136622, 'shioty'),\n",
       " (0.5058249, 'gg'),\n",
       " (0.50398856, 'FUCKEN')]"
      ]
     },
     "execution_count": 121,
     "metadata": {},
     "output_type": "execute_result"
    }
   ],
   "source": [
    "nearest_neighbors(\"fuck\", n=30, max_freq=None)"
   ]
  },
  {
   "cell_type": "code",
   "execution_count": 120,
   "metadata": {},
   "outputs": [
    {
     "data": {
      "text/plain": [
       "[(0.5730932, 'Fucky'),\n",
       " (0.56012464, 'ass!Fuck'),\n",
       " (0.51797044, 'Go'),\n",
       " (0.5144625, 'shitFuck'),\n",
       " (0.50398856, 'FUCKEN'),\n",
       " (0.49106547, 'dickBig'),\n",
       " (0.49081677, 'buSh'),\n",
       " (0.4896593, 'bitchMother'),\n",
       " (0.47714946, 'suckS'),\n",
       " (0.47627318, 'ancestryFuck'),\n",
       " (0.4757869, 'faggot!!!!Jéské'),\n",
       " (0.47560382, 'Bongwarriorcongratualtions'),\n",
       " (0.47558245, 'faggotMONGO'),\n",
       " (0.4751744, 'Notrhbysouthbanof'),\n",
       " (0.47097516, 'Fuck'),\n",
       " (0.46741462, 'retardMONGO'),\n",
       " (0.46655396, 'bUsh'),\n",
       " (0.46452147, 'tEh'),\n",
       " (0.4614357, 'OFFFUCK'),\n",
       " (0.46137694, 'FUCKK'),\n",
       " (0.4573362, 'HAND.faggotMONGO'),\n",
       " (0.45694146, 'it.\"\"\"\"Bitch'),\n",
       " (0.4559379, 'FGGT'),\n",
       " (0.45290092, 'Fan-1967'),\n",
       " (0.45119444, 'FoReVeR'),\n",
       " (0.45069972, 'WACKO'),\n",
       " (0.4504874, 'aRe'),\n",
       " (0.45030543, 'FAGGOT'),\n",
       " (0.44894904, 'BLEACHANHERO'),\n",
       " (0.44891208, 'F@GGOT')]"
      ]
     },
     "execution_count": 120,
     "metadata": {},
     "output_type": "execute_result"
    }
   ],
   "source": [
    "nearest_neighbors(\"fuck\", n=30, max_freq=2)"
   ]
  },
  {
   "cell_type": "code",
   "execution_count": 110,
   "metadata": {},
   "outputs": [
    {
     "data": {
      "text/plain": [
       "[(1.0, 'nigga'),\n",
       " (0.76812077, 'niggaz'),\n",
       " (0.70144916, 'niggas'),\n",
       " (0.6544976, 'Nigga'),\n",
       " (0.5773974, 'niggardly'),\n",
       " (0.48689127, 'ganna'),\n",
       " (0.48483732, 'bitch'),\n",
       " (0.48362437, 'nigger'),\n",
       " (0.48207304, 'mutha'),\n",
       " (0.48016408, 'niggers'),\n",
       " (0.47714293, 'ashit'),\n",
       " (0.4693819, 'fcuk'),\n",
       " (0.46933064, 'fckin'),\n",
       " (0.46855983, 'myles'),\n",
       " (0.46609938, '@/\\\\/+u'),\n",
       " (0.45738328, 'fcken'),\n",
       " (0.45651972, 'bitches.fuck'),\n",
       " (0.4545034, 'shgit'),\n",
       " (0.45431292, 'fucka'),\n",
       " (0.45381734, 'doosh'),\n",
       " (0.44882894, 'yoy'),\n",
       " (0.44464716, 'ass'),\n",
       " (0.4440089, 'aot'),\n",
       " (0.44366586, 'myo'),\n",
       " (0.4411442, 'yourselfgo'),\n",
       " (0.44085807, 'd3$1r'),\n",
       " (0.4402051, 'bitchMother'),\n",
       " (0.43842676, 'shioty'),\n",
       " (0.43722463, 'fukin'),\n",
       " (0.43699828, 'RAWR')]"
      ]
     },
     "execution_count": 110,
     "metadata": {},
     "output_type": "execute_result"
    }
   ],
   "source": [
    "nearest_neighbors(\"nigga\", n=30)"
   ]
  },
  {
   "cell_type": "code",
   "execution_count": 111,
   "metadata": {},
   "outputs": [
    {
     "data": {
      "text/plain": [
       "[(1.0, 'shit'),\n",
       " (0.6572481, 'ashit'),\n",
       " (0.6148057, 'shgit'),\n",
       " (0.6077305, 'shioty'),\n",
       " (0.60361385, 'shiot'),\n",
       " (0.5875714, 'shoit'),\n",
       " (0.5862358, 'hsoit'),\n",
       " (0.5835266, 'aot'),\n",
       " (0.56271935, 'ahot'),\n",
       " (0.5529605, 'shti'),\n",
       " (0.5382499, 'piece'),\n",
       " (0.5198875, 'shitFuck'),\n",
       " (0.51926255, 'sht'),\n",
       " (0.51698554, 'Notrhbysouthbanof'),\n",
       " (0.51440406, 'fucking'),\n",
       " (0.5136827, 'ass'),\n",
       " (0.51244426, 'sh!t'),\n",
       " (0.5043142, 'shits'),\n",
       " (0.5019324, 'sot'),\n",
       " (0.4837982, 'shitbag'),\n",
       " (0.48196018, 'kwa'),\n",
       " (0.47800198, 'bitch'),\n",
       " (0.4749033, 'ahole'),\n",
       " (0.47206512, 'myles'),\n",
       " (0.4709434, 'shyt'),\n",
       " (0.4675216, 'motherfucking'),\n",
       " (0.46299925, 'butthole'),\n",
       " (0.45588112, 'faggot'),\n",
       " (0.45324886, 'Motherfucking'),\n",
       " (0.449606, 'fatass')]"
      ]
     },
     "execution_count": 111,
     "metadata": {},
     "output_type": "execute_result"
    }
   ],
   "source": [
    "nearest_neighbors(\"shit\", n=30)"
   ]
  },
  {
   "cell_type": "code",
   "execution_count": 122,
   "metadata": {},
   "outputs": [
    {
     "data": {
      "text/plain": [
       "[(0.5198875, 'shitFuck'),\n",
       " (0.51698554, 'Notrhbysouthbanof'),\n",
       " (0.45324886, 'Motherfucking'),\n",
       " (0.44247538, 'Bradbury'),\n",
       " (0.44019768, 'bitchMother'),\n",
       " (0.43868962, 'buSh'),\n",
       " (0.42333588, 'ass!Fuck'),\n",
       " (0.41983578, 'Motherfucker'),\n",
       " (0.41927108, 'Fuck'),\n",
       " (0.416493, 'Shove'),\n",
       " (0.41473627, 'GARBAGE'),\n",
       " (0.40359667, 'bUsh'),\n",
       " (0.39910036, 'dickBig'),\n",
       " (0.39865327, 'Faggot'),\n",
       " (0.39431655, 'suckS'),\n",
       " (0.3930912, 'Alstair'),\n",
       " (0.39257228, 'faggot!!!!Jéské'),\n",
       " (0.38904762, 'Bongwarriorcongratualtions'),\n",
       " (0.38744184, 'Edgar181'),\n",
       " (0.38529128, 'NHRHS2010/Hitler'),\n",
       " (0.38413492, 'bitchMattythewhite'),\n",
       " (0.38319618, 'FGGT'),\n",
       " (0.3823751, 'busH'),\n",
       " (0.38177776, 'ancestryFuck'),\n",
       " (0.38006446, 'FIXING'),\n",
       " (0.3799334, 'NHRHS2010'),\n",
       " (0.37604764, 'cheeseI'),\n",
       " (0.3754368, 'HEADS'),\n",
       " (0.37325594, 'Scumbag'),\n",
       " (0.37111962, 'FUCKEN')]"
      ]
     },
     "execution_count": 122,
     "metadata": {},
     "output_type": "execute_result"
    }
   ],
   "source": [
    "nearest_neighbors(\"shit\", n=30, max_freq=3)"
   ]
  },
  {
   "cell_type": "code",
   "execution_count": 112,
   "metadata": {},
   "outputs": [
    {
     "data": {
      "text/plain": [
       "[(0.9999999, 'bitch'),\n",
       " (0.6124655, 'bitchMother'),\n",
       " (0.56821156, 'motherfucker'),\n",
       " (0.54925597, 'motherfuckers'),\n",
       " (0.54788405, 'Sannse'),\n",
       " (0.5391741, 'Motherfucker'),\n",
       " (0.5377474, 'fucka'),\n",
       " (0.53611076, 'bitchMattythewhite'),\n",
       " (0.53400165, 'bitches'),\n",
       " (0.5285885, 'motherfucking'),\n",
       " (0.5229482, '62.158.73.165'),\n",
       " (0.51832926, 'bitchy'),\n",
       " (0.51085055, 'ass'),\n",
       " (0.503697, 'Motherfucking'),\n",
       " (0.4967802, 'Ilchee'),\n",
       " (0.48971605, 'bitches.fuck'),\n",
       " (0.48684308, 'sonofabitch'),\n",
       " (0.485358, 'fuc*ing'),\n",
       " (0.48483732, 'nigga'),\n",
       " (0.47813663, 'sh!t'),\n",
       " (0.47800198, 'shit'),\n",
       " (0.47793558, 'Fucker'),\n",
       " (0.47456375, 'Billj'),\n",
       " (0.46835187, 'fuck'),\n",
       " (0.4657153, 'ashit'),\n",
       " (0.46396202, 'Dumbass'),\n",
       " (0.4638707, 'shgit'),\n",
       " (0.4612958, 'fucker'),\n",
       " (0.46071222, '^^^^^^'),\n",
       " (0.4594326, 'faggot!!!!Jéské')]"
      ]
     },
     "execution_count": 112,
     "metadata": {},
     "output_type": "execute_result"
    }
   ],
   "source": [
    "nearest_neighbors(\"bitch\", n=30)"
   ]
  },
  {
   "cell_type": "code",
   "execution_count": null,
   "metadata": {},
   "outputs": [],
   "source": []
  },
  {
   "cell_type": "markdown",
   "metadata": {},
   "source": [
    "Kinds of noise\n",
    "\n",
    "- Repeat chars\n",
    "- Repeat word\n",
    "- Remove spaces\n",
    "- Append weird words (e.g. stick)\n",
    "- Append offensive words\n",
    "    - sex\n",
    "    - bitch\n",
    "    - fuck\n",
    "    - ass\n",
    "- Remove characters (e.g. asshol)\n",
    "- Replace chars (e.g. i -> !)"
   ]
  },
  {
   "cell_type": "code",
   "execution_count": null,
   "metadata": {},
   "outputs": [],
   "source": []
  }
 ],
 "metadata": {
  "kernelspec": {
   "display_name": "Python 3",
   "language": "python",
   "name": "python3"
  },
  "language_info": {
   "codemirror_mode": {
    "name": "ipython",
    "version": 3
   },
   "file_extension": ".py",
   "mimetype": "text/x-python",
   "name": "python",
   "nbconvert_exporter": "python",
   "pygments_lexer": "ipython3",
   "version": "3.6.6"
  }
 },
 "nbformat": 4,
 "nbformat_minor": 2
}
